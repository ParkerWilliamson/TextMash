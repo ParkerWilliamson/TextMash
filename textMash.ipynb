{
 "cells": [
  {
   "cell_type": "code",
   "execution_count": 1,
   "metadata": {},
   "outputs": [],
   "source": [
    "#to process text data import this lib\n",
    "import xmltodict"
   ]
  },
  {
   "cell_type": "code",
   "execution_count": 2,
   "metadata": {},
   "outputs": [],
   "source": [
    "#get text data and verify that it is working properly\n",
    "xml = 'RawDataFolder/sms-20180303224019.xml'\n",
    "#with open(xml, 'rb') as xmldoc:\n",
    "xmldoc = open(xml, 'rb')\n",
    "raw_texts = xmltodict.parse(xmldoc)\n",
    "#print(raw_texts['smses'].keys())\n",
    "#for text in raw_texts['smses']['sms'][:3]:\n",
    "#    print(text)"
   ]
  },
  {
   "cell_type": "code",
   "execution_count": 3,
   "metadata": {},
   "outputs": [],
   "source": [
    "#set up libs and options\n",
    "%matplotlib inline\n",
    "import numpy as np\n",
    "import scipy as sp\n",
    "import matplotlib as mpl\n",
    "import matplotlib.cm as cm\n",
    "import matplotlib.pyplot as plt\n",
    "import pandas as pd\n",
    "import seaborn as sns\n",
    "from six.moves import range\n",
    "\n",
    "# Setup Pandas\n",
    "pd.set_option('display.width', 500)\n",
    "pd.set_option('display.max_columns', 100)\n",
    "pd.set_option('display.notebook_repr_html', True)\n",
    "\n",
    "# Setup Seaborn\n",
    "sns.set_style(\"whitegrid\")\n",
    "sns.set_context(\"poster\")"
   ]
  },
  {
   "cell_type": "markdown",
   "metadata": {},
   "source": [
    "test Myers Briggs data"
   ]
  },
  {
   "cell_type": "code",
   "execution_count": 4,
   "metadata": {},
   "outputs": [],
   "source": [
    "import pandas as pd\n",
    "reddit_text = pd.read_csv('RawDataFolder/Reddit_mbti_data_2.csv',encoding='utf-8').set_index('Name')"
   ]
  },
  {
   "cell_type": "code",
   "execution_count": 5,
   "metadata": {},
   "outputs": [],
   "source": [
    "reddit_text_filler = pd.read_csv('RawDataFolder/Reddit_mbti_data_filler.csv',encoding='utf-8').set_index('Name')"
   ]
  },
  {
   "cell_type": "code",
   "execution_count": 6,
   "metadata": {},
   "outputs": [],
   "source": [
    "#import mbti data from kaggle\n",
    "Meyers_text = pd.read_csv('RawDataFolder/mbti_1.csv')"
   ]
  },
  {
   "cell_type": "code",
   "execution_count": 8,
   "metadata": {},
   "outputs": [
    {
     "data": {
      "image/png": "[encoded data removed]",
      "text/plain": [
       "<matplotlib.figure.Figure at 0x13d90f98>"
      ]
     },
     "metadata": {},
     "output_type": "display_data"
    }
   ],
   "source": [
    "#check distribution of all the collected types\n",
    "import matplotlib.pyplot as plt\n",
    "import seaborn as sns\n",
    "\n",
    "combined_sample = pd.concat([pd.concat([reddit_text.mbti, Meyers_text.type], ignore_index=True), reddit_text_filler.mbti], ignore_index=True)\n",
    "cnt_srs = combined_sample.value_counts()\n",
    "\n",
    "plt.figure(figsize=(12,4))\n",
    "sns.barplot(cnt_srs.index, cnt_srs.values, alpha=0.8)\n",
    "plt.title('Combined writing samples')\n",
    "plt.ylabel('Number of Occurrences', fontsize=12)\n",
    "plt.xlabel('Types', fontsize=12)\n",
    "plt.show()"
   ]
  },
  {
   "cell_type": "code",
   "execution_count": 9,
   "metadata": {},
   "outputs": [
    {
     "name": "stdout",
     "output_type": "stream",
     "text": [
      "Combined users: \n",
      "INFP    2237\n",
      "INTP    1844\n",
      "INFJ    1836\n",
      "INTJ    1500\n",
      "ENTP    1005\n",
      "ENFP     933\n",
      "ISTP     498\n",
      "ENTJ     350\n",
      "ISFP     350\n",
      "ISTJ     282\n",
      "ENFJ     256\n",
      "ISFJ     238\n",
      "ESTP     160\n",
      "ESFP     102\n",
      "ESFJ     102\n",
      "ESTJ     101\n",
      "dtype: int64\n"
     ]
    }
   ],
   "source": [
    "combined_sample = pd.concat([pd.concat([reddit_text.mbti, Meyers_text.type], ignore_index=True), reddit_text_filler.mbti], ignore_index=True)\n",
    "cnt_srs = combined_sample.value_counts()\n",
    "print('Combined users: ')\n",
    "print(cnt_srs)"
   ]
  },
  {
   "cell_type": "code",
   "execution_count": 11,
   "metadata": {},
   "outputs": [
    {
     "name": "stdout",
     "output_type": "stream",
     "text": [
      "Combined users: \n",
      "INTP    83\n",
      "INTJ    73\n",
      "INFJ    65\n",
      "INFP    64\n",
      "ENTP    44\n",
      "ENFP    40\n",
      "ISTP    31\n",
      "ENTJ    23\n",
      "ISFJ    21\n",
      "ISFP    15\n",
      "ENFJ    14\n",
      "ESTP    12\n",
      "ESFP    10\n",
      "ISTJ     9\n",
      "ESFJ     8\n",
      "ESTJ     8\n",
      "Name: mbti, dtype: int64\n"
     ]
    }
   ],
   "source": [
    "cnt_srs = reddit_text[reddit_text.text_count<40].mbti.value_counts()\n",
    "print('Combined users: ')\n",
    "print(cnt_srs)"
   ]
  },
  {
   "cell_type": "code",
   "execution_count": 12,
   "metadata": {},
   "outputs": [
    {
     "name": "stdout",
     "output_type": "stream",
     "text": [
      "                      mbti  text_count\n",
      "Name                                  \n",
      "sweetsleeper          INTP        37.0\n",
      "CleanDevelopment      ISTP        15.0\n",
      "FunEquivalent         ISFP        34.0\n",
      "Ayumu916              INFP        29.0\n",
      "anacmelo              INTJ        25.0\n",
      "suzythecreator        ISTP        28.0\n",
      "magdaUl               ENTP         5.0\n",
      "TheBureaucratJosephK  INTJ        40.0\n",
      "analysis_god          INTP        34.0\n",
      "PM-me-ur-MBTI-quirk   INFJ         7.0\n",
      "Pos_Ki                INTJ        23.0\n",
      "SousanTheMage         INTP        36.0\n",
      "EffectiveEdge         ENFP         9.0\n",
      "dashing-rainbows      ISTJ        29.0\n",
      "Blissnoir             ISFJ        21.0\n",
      "lle-ell               ENTP        47.0\n",
      "IdealisticDegenerate  ENFP        17.0\n",
      "TRlLLS                ENTJ        18.0\n",
      "Plaid_Warlock         INTJ         8.0\n",
      "arcticsehnsucht       INFP        39.0\n",
      "taco-kat              INFP        49.0\n",
      "jerompe               ENFP         9.0\n",
      "pariah_piranha        INFP        28.0\n",
      "Struggling_Millenial  ESTJ         8.0\n",
      "cheesychapstick       INFP         6.0\n",
      "VienaKyra             INTJ        49.0\n",
      "fyorafire             INTP        47.0\n",
      "mike_the_leader       ESFP        48.0\n",
      "eaesthetic            INFJ         9.0\n",
      "Neurodegenerate321    INFJ        38.0\n",
      "...                    ...         ...\n",
      "HerrRudiger           INFP        27.0\n",
      "JLeeCloud             ISFJ        13.0\n",
      "Norrehl               INFP        17.0\n",
      "confusedaboutistp     INFP         4.0\n",
      "msrrsm1234567890      INTJ        38.0\n",
      "theonetruebutt        INFJ        40.0\n",
      "Brainiac777           INTP        23.0\n",
      "Neo1223               ENFP        33.0\n",
      "InGloom               INFJ        12.0\n",
      "-cuddles-             INTJ         1.0\n",
      "pentazole             INFJ         1.0\n",
      "thespacehuman         INTP        26.0\n",
      "orangesharpieguy      ENFJ        10.0\n",
      "Gelbello              INTP        13.0\n",
      "croomp                INTP         5.0\n",
      "ghostmotels           ISTP        23.0\n",
      "music_foryou          ISFJ        11.0\n",
      "Twombly92             INFP        47.0\n",
      "awful_neutral         INTP        25.0\n",
      "Phrixxuss             INTJ        33.0\n",
      "Jethawk55             INFP        16.0\n",
      "Indigosheep           INFJ         5.0\n",
      "galaxygazette         ENFJ         2.0\n",
      "ItsABadger            INTP        37.0\n",
      "Lieutenant_Cobalt     INTJ        15.0\n",
      "psychoasian           ESFP        45.0\n",
      "bedsit                INTP        13.0\n",
      "emilywho124           INFP        29.0\n",
      "Zowkaiii              INTP        10.0\n",
      "ConfessorM            ISFJ        34.0\n",
      "\n",
      "[616 rows x 2 columns]\n"
     ]
    }
   ],
   "source": [
    "print(reddit_text.drop('text', axis=1)[reddit_text.text_count<50])"
   ]
  },
  {
   "cell_type": "code",
   "execution_count": 13,
   "metadata": {},
   "outputs": [],
   "source": [
    "Meyers_text = Meyers_text.rename(index=str, columns={\"type\": \"mbti\", \"posts\": \"text\"})\n",
    "combined_data = reddit_text.append([Meyers_text, reddit_text_filler], ignore_index=True).fillna(50)"
   ]
  },
  {
   "cell_type": "code",
   "execution_count": 14,
   "metadata": {},
   "outputs": [],
   "source": [
    "#randomly select 100 examples of each\n",
    "combined_data_evened = combined_data.groupby('mbti').apply(lambda x: x.sample(100)).reset_index(drop=True)"
   ]
  },
  {
   "cell_type": "code",
   "execution_count": 15,
   "metadata": {},
   "outputs": [
    {
     "data": {
      "image/png": "[encoded data removed]",
      "text/plain": [
       "<matplotlib.figure.Figure at 0x13d92c50>"
      ]
     },
     "metadata": {},
     "output_type": "display_data"
    }
   ],
   "source": [
    "#check distribution of all the collected types\n",
    "import matplotlib.pyplot as plt\n",
    "import seaborn as sns\n",
    "\n",
    "cnt_srs = combined_data_evened.mbti.value_counts()\n",
    "\n",
    "plt.figure(figsize=(12,4))\n",
    "sns.barplot(cnt_srs.index, cnt_srs.values, alpha=0.8)\n",
    "plt.title('Combined writing samples')\n",
    "plt.ylabel('Number of Occurrences', fontsize=12)\n",
    "plt.xlabel('Types', fontsize=12)\n",
    "plt.show()"
   ]
  },
  {
   "cell_type": "code",
   "execution_count": 107,
   "metadata": {},
   "outputs": [
    {
     "name": "stderr",
     "output_type": "stream",
     "text": [
      "C:\\ProgramData\\Anaconda3\\lib\\site-packages\\sklearn\\model_selection\\_split.py:2026: FutureWarning: From version 0.21, test_size will always complement train_size unless both are specified.\n",
      "  FutureWarning)\n"
     ]
    }
   ],
   "source": [
    "#split the data into test and training groups via mask\n",
    "from sklearn.model_selection import train_test_split\n",
    "_, itest_mbti = train_test_split(range(len(combined_data_evened['text'])), train_size=1)\n",
    "mask_mbti = np.zeros(len(combined_data_evened['text']), dtype=np.bool)\n",
    "mask_mbti[itest_mbti] = True"
   ]
  },
  {
   "cell_type": "code",
   "execution_count": 147,
   "metadata": {},
   "outputs": [],
   "source": [
    "#initialized text processing libs and vars\n",
    "from sklearn.feature_extraction.text import TfidfVectorizer\n",
    "from sklearn.feature_extraction.text import CountVectorizer\n",
    "from sklearn.naive_bayes import MultinomialNB\n",
    "\n",
    "vectorizer_mtbi = TfidfVectorizer(min_df=10,stop_words='english')\n",
    "#vectorizer_mtbi = CountVectorizer(min_df=10,stop_words=‘english’)"
   ]
  },
  {
   "cell_type": "code",
   "execution_count": 148,
   "metadata": {},
   "outputs": [],
   "source": [
    "#create arrays for results\n",
    "y_IE = (combined_data_evened.mbti.str.contains('I') == 1).values.astype(np.int)\n",
    "y_NS = (combined_data_evened.mbti.str.contains('N') == 1).values.astype(np.int)\n",
    "y_TF = (combined_data_evened.mbti.str.contains('F') == 1).values.astype(np.int)\n",
    "y_JP = (combined_data_evened.mbti.str.contains('J') == 1).values.astype(np.int)"
   ]
  },
  {
   "cell_type": "code",
   "execution_count": 149,
   "metadata": {},
   "outputs": [
    {
     "name": "stdout",
     "output_type": "stream",
     "text": [
      "0    ENFJ\n",
      "1    ENFJ\n",
      "2    ENFJ\n",
      "3    ENFJ\n",
      "4    ENFJ\n",
      "Name: mbti, dtype: object\n",
      "  y_IE y_NS y_TF y_JP\n",
      "     0    0    0    0\n",
      "0    0    1    1    1\n",
      "1    0    1    1    1\n",
      "2    0    1    1    1\n",
      "3    0    1    1    1\n",
      "4    0    1    1    1\n"
     ]
    }
   ],
   "source": [
    "#create one true results dataframe\n",
    "y = pd.concat([pd.DataFrame(y_IE),pd.DataFrame(y_NS),pd.DataFrame(y_TF),pd.DataFrame(y_JP)], \\\n",
    "              keys = ['y_IE','y_NS','y_TF','y_JP'],axis=1)\n",
    "\n",
    "print(combined_data_evened.mbti[:5])\n",
    "print(y[:5])"
   ]
  },
  {
   "cell_type": "code",
   "execution_count": 150,
   "metadata": {},
   "outputs": [],
   "source": [
    "#preprocess all the mbti data\n",
    "import re\n",
    "\n",
    "#add a removal of all mtbi classes                                                 <-change\n",
    "def cleanText(text):\n",
    "    text = re.sub(r'\\|\\|\\|', r' ', text) \n",
    "    text = re.sub(r'http\\S+', r'<URL>', text)\n",
    "    text = re.sub(r'INTP', r'<MBTI>', text)\n",
    "    text = re.sub(r'intp', r'<MBTI>', text)\n",
    "    text = re.sub(r'INTJ', r'<MBTI>', text)\n",
    "    text = re.sub(r'intj', r'<MBTI>', text)\n",
    "    text = re.sub(r'INFJ', r'<MBTI>', text)\n",
    "    text = re.sub(r'infj', r'<MBTI>', text)\n",
    "    text = re.sub(r'INFP', r'<MBTI>', text)\n",
    "    text = re.sub(r'infp', r'<MBTI>', text)\n",
    "    text = re.sub(r'ENTP', r'<MBTI>', text)\n",
    "    text = re.sub(r'entp', r'<MBTI>', text)\n",
    "    text = re.sub(r'ENFP', r'<MBTI>', text)\n",
    "    text = re.sub(r'enfp', r'<MBTI>', text)\n",
    "    text = re.sub(r'ISTP', r'<MBTI>', text)\n",
    "    text = re.sub(r'istp', r'<MBTI>', text)\n",
    "    text = re.sub(r'ENTJ', r'<MBTI>', text)\n",
    "    text = re.sub(r'entj', r'<MBTI>', text)\n",
    "    text = re.sub(r'ISFJ', r'<MBTI>', text)\n",
    "    text = re.sub(r'isfj', r'<MBTI>', text)\n",
    "    text = re.sub(r'ENFJ', r'<MBTI>', text)\n",
    "    text = re.sub(r'enfj', r'<MBTI>', text)\n",
    "    text = re.sub(r'ISFP', r'<MBTI>', text)\n",
    "    text = re.sub(r'isfp', r'<MBTI>', text)\n",
    "    text = re.sub(r'ESFP', r'<MBTI>', text)\n",
    "    text = re.sub(r'esfp', r'<MBTI>', text)\n",
    "    text = re.sub(r'ESTP', r'<MBTI>', text)\n",
    "    text = re.sub(r'estp', r'<MBTI>', text)\n",
    "    text = re.sub(r'ESTJ', r'<MBTI>', text)\n",
    "    text = re.sub(r'estj', r'<MBTI>', text)\n",
    "    text = re.sub(r'ESFJ', r'<MBTI>', text)\n",
    "    text = re.sub(r'esfj', r'<MBTI>', text)\n",
    "    text = re.sub(r'ISTJ', r'<MBTI>', text)\n",
    "    text = re.sub(r'istj', r'<MBTI>', text)\n",
    "    return text\n",
    "combined_data_evened['clean_text'] = combined_data_evened['text'].apply(cleanText)\n",
    "#print(combined_data_evened['clean_text'][0])"
   ]
  },
  {
   "cell_type": "code",
   "execution_count": 151,
   "metadata": {},
   "outputs": [],
   "source": [
    "#preform the data split\n",
    "X = vectorizer_mtbi.fit_transform(combined_data_evened['clean_text'])\n",
    "\n",
    "xtrain=X[mask_mbti]\n",
    "ytrain=y[mask_mbti]\n",
    "xtest=X[~mask_mbti]\n",
    "ytest=y[~mask_mbti]"
   ]
  },
  {
   "cell_type": "code",
   "execution_count": 152,
   "metadata": {},
   "outputs": [
    {
     "name": "stdout",
     "output_type": "stream",
     "text": [
      "Accuracy on training data: 0.923077\n",
      "Accuracy on test data:     0.000000\n"
     ]
    },
    {
     "name": "stderr",
     "output_type": "stream",
     "text": [
      "C:\\ProgramData\\Anaconda3\\lib\\site-packages\\sklearn\\utils\\validation.py:578: DataConversionWarning: A column-vector y was passed when a 1d array was expected. Please change the shape of y to (n_samples, ), for example using ravel().\n",
      "  y = column_or_1d(y, warn=True)\n"
     ]
    }
   ],
   "source": [
    "#check accuracy of each model on the saved training data\n",
    "clf_IE = MultinomialNB(alpha=1).fit(xtrain, ytrain['y_IE'])\n",
    "\n",
    "#your turn. Print the accuracy on the test and training dataset\n",
    "training_accuracy = clf_IE.score(xtrain, ytrain['y_IE'])\n",
    "test_accuracy = clf_IE.score(xtest, ytest['y_IE'])\n",
    "from sklearn.metrics import precision_recall_fscore_support\n",
    "\n",
    "print(\"Accuracy on training data: {:2f}\".format(training_accuracy))\n",
    "print(\"Accuracy on test data:     {:2f}\".format(test_accuracy))"
   ]
  },
  {
   "cell_type": "code",
   "execution_count": 153,
   "metadata": {},
   "outputs": [
    {
     "name": "stdout",
     "output_type": "stream",
     "text": [
      "Accuracy on training data: 0.882427\n",
      "Accuracy on test data:     1.000000\n"
     ]
    },
    {
     "name": "stderr",
     "output_type": "stream",
     "text": [
      "C:\\ProgramData\\Anaconda3\\lib\\site-packages\\sklearn\\utils\\validation.py:578: DataConversionWarning: A column-vector y was passed when a 1d array was expected. Please change the shape of y to (n_samples, ), for example using ravel().\n",
      "  y = column_or_1d(y, warn=True)\n"
     ]
    }
   ],
   "source": [
    "clf_NS = MultinomialNB(alpha=1).fit(xtrain, ytrain['y_NS'])\n",
    "\n",
    "#your turn. Print the accuracy on the test and training dataset\n",
    "training_accuracy = clf_NS.score(xtrain, ytrain['y_NS'])\n",
    "test_accuracy = clf_NS.score(xtest, ytest['y_NS'])\n",
    "\n",
    "print(\"Accuracy on training data: {:2f}\".format(training_accuracy))\n",
    "print(\"Accuracy on test data:     {:2f}\".format(test_accuracy))"
   ]
  },
  {
   "cell_type": "code",
   "execution_count": 154,
   "metadata": {},
   "outputs": [
    {
     "name": "stdout",
     "output_type": "stream",
     "text": [
      "Accuracy on training data: 0.854909\n",
      "Accuracy on test data:     1.000000\n"
     ]
    },
    {
     "name": "stderr",
     "output_type": "stream",
     "text": [
      "C:\\ProgramData\\Anaconda3\\lib\\site-packages\\sklearn\\utils\\validation.py:578: DataConversionWarning: A column-vector y was passed when a 1d array was expected. Please change the shape of y to (n_samples, ), for example using ravel().\n",
      "  y = column_or_1d(y, warn=True)\n"
     ]
    }
   ],
   "source": [
    "clf_TF = MultinomialNB(alpha=1).fit(xtrain, ytrain['y_TF'])\n",
    "\n",
    "#your turn. Print the accuracy on the test and training dataset\n",
    "training_accuracy = clf_TF.score(xtrain, ytrain['y_TF'])\n",
    "test_accuracy = clf_TF.score(xtest, ytest['y_TF'])\n",
    "\n",
    "print(\"Accuracy on training data: {:2f}\".format(training_accuracy))\n",
    "print(\"Accuracy on test data:     {:2f}\".format(test_accuracy))"
   ]
  },
  {
   "cell_type": "code",
   "execution_count": 155,
   "metadata": {},
   "outputs": [
    {
     "name": "stdout",
     "output_type": "stream",
     "text": [
      "Accuracy on training data: 0.918699\n",
      "Accuracy on test data:     1.000000\n"
     ]
    },
    {
     "name": "stderr",
     "output_type": "stream",
     "text": [
      "C:\\ProgramData\\Anaconda3\\lib\\site-packages\\sklearn\\utils\\validation.py:578: DataConversionWarning: A column-vector y was passed when a 1d array was expected. Please change the shape of y to (n_samples, ), for example using ravel().\n",
      "  y = column_or_1d(y, warn=True)\n"
     ]
    }
   ],
   "source": [
    "clf_JP = MultinomialNB(alpha=1).fit(xtrain, ytrain['y_JP'])\n",
    "\n",
    "#your turn. Print the accuracy on the test and training dataset\n",
    "training_accuracy = clf_JP.score(xtrain, ytrain['y_JP'])\n",
    "test_accuracy = clf_JP.score(xtest, ytest['y_JP'])\n",
    "\n",
    "print(\"Accuracy on training data: {:2f}\".format(training_accuracy))\n",
    "print(\"Accuracy on test data:     {:2f}\".format(test_accuracy))"
   ]
  },
  {
   "cell_type": "code",
   "execution_count": 156,
   "metadata": {},
   "outputs": [
    {
     "name": "stdout",
     "output_type": "stream",
     "text": [
      "['Will you be home soon?', 'Yeah!']\n"
     ]
    }
   ],
   "source": [
    "#find all my text\n",
    "raw_text_friend = []\n",
    "for message in raw_texts['smses']['sms']:\n",
    "    #only include texts that you have sent\n",
    "    if ((message['@date_sent']=='0') and (message['@contact_name']=='Mom') and (message['@body'] != '')):\n",
    "        raw_text_friend.append(message['@body']) \n",
    "print(raw_text_friend[1:3])\n",
    "raw_text_series_friend = pd.Series(raw_text_friend)"
   ]
  },
  {
   "cell_type": "markdown",
   "metadata": {},
   "source": [
    "add a pre-processing step!"
   ]
  },
  {
   "cell_type": "code",
   "execution_count": 157,
   "metadata": {},
   "outputs": [
    {
     "name": "stdout",
     "output_type": "stream",
     "text": [
      "1    Will you be home soon?\n",
      "2                     Yeah!\n",
      "dtype: object\n"
     ]
    }
   ],
   "source": [
    "raw_text_series_friend = raw_text_series_friend.apply(cleanText)\n",
    "print(raw_text_series_friend[1:3])"
   ]
  },
  {
   "cell_type": "code",
   "execution_count": 158,
   "metadata": {},
   "outputs": [],
   "source": [
    "#test predictions for my texts\n",
    "#vected_sms_meyers = vectorizer.transform(raw_text_series)\n",
    "vected_sms_meyers = vectorizer_mtbi.transform(raw_text_series_friend)"
   ]
  },
  {
   "cell_type": "code",
   "execution_count": 159,
   "metadata": {},
   "outputs": [
    {
     "name": "stdout",
     "output_type": "stream",
     "text": [
      "0=E and 1=I:  0.359375\n"
     ]
    }
   ],
   "source": [
    "IE_prediction = clf_IE.predict(vected_sms_meyers)\n",
    "print('0=E and 1=I: ',(np.sum(IE_prediction)/len(IE_prediction)))"
   ]
  },
  {
   "cell_type": "code",
   "execution_count": 160,
   "metadata": {},
   "outputs": [
    {
     "name": "stdout",
     "output_type": "stream",
     "text": [
      "0=S and 1=N:  0.244419642857\n"
     ]
    }
   ],
   "source": [
    "NS_prediction = clf_NS.predict(vected_sms_meyers)\n",
    "print('0=S and 1=N: ',(np.sum(NS_prediction)/len(NS_prediction)))"
   ]
  },
  {
   "cell_type": "code",
   "execution_count": 161,
   "metadata": {},
   "outputs": [
    {
     "name": "stdout",
     "output_type": "stream",
     "text": [
      "0=T and 1=F:  0.762276785714\n"
     ]
    }
   ],
   "source": [
    "TF_prediction = clf_TF.predict(vected_sms_meyers)\n",
    "print('0=T and 1=F: ',(np.sum(TF_prediction)/len(TF_prediction)))"
   ]
  },
  {
   "cell_type": "code",
   "execution_count": 162,
   "metadata": {},
   "outputs": [
    {
     "name": "stdout",
     "output_type": "stream",
     "text": [
      "0=P and 1=J:  0.5859375\n"
     ]
    }
   ],
   "source": [
    "JP_prediction = clf_JP.predict(vected_sms_meyers)\n",
    "print('0=P and 1=J: ',(np.sum(JP_prediction)/len(JP_prediction)))"
   ]
  },
  {
   "cell_type": "code",
   "execution_count": 163,
   "metadata": {},
   "outputs": [],
   "source": [
    "#create a list of all the people who have texted me\n",
    "People = []\n",
    "for text in raw_texts['smses']['sms']:\n",
    "    if ((text['@contact_name'] not in People) and text['@date_sent']=='0'):\n",
    "        People.append(text['@contact_name'])\n",
    "        #print(text)\n",
    "#print(People)"
   ]
  },
  {
   "cell_type": "code",
   "execution_count": 164,
   "metadata": {},
   "outputs": [],
   "source": [
    "#collect all the texts from each of my contacts\n",
    "from collections import defaultdict\n",
    "raw_text_friends = defaultdict(list)\n",
    "for person in People:\n",
    "    for message in raw_texts['smses']['sms']:\n",
    "        #only include texts that you have sent\n",
    "        if ((message['@date_sent']=='0') and (message['@contact_name']==person) and (message['@body'] != '')):\n",
    "            raw_text_friends[person].append(message['@body']) \n",
    "#print(raw_text_friends)\n",
    "#raw_text_series_friend = pd.Series(raw_text_friends)"
   ]
  },
  {
   "cell_type": "code",
   "execution_count": 165,
   "metadata": {},
   "outputs": [],
   "source": [
    "#classify the average from each of my friends\n",
    "from collections import defaultdict\n",
    "friend_mbti_personalities = defaultdict(list)\n",
    "for person in People:\n",
    "    mbti_string = ''\n",
    "    raw_text_series_friend = pd.Series(raw_text_friends[person])\n",
    "    raw_text_series_friend = raw_text_series_friend.apply(cleanText)\n",
    "    vected_sms_meyers = vectorizer_mtbi.transform(raw_text_series_friend)\n",
    "    \n",
    "    IE_prediction = clf_IE.predict(vected_sms_meyers)\n",
    "    if ((np.sum(IE_prediction)/len(IE_prediction))>.5):\n",
    "        mbti_string = mbti_string +'I'\n",
    "    else:\n",
    "        mbti_string = mbti_string +'E'\n",
    "        \n",
    "    NS_prediction = clf_NS.predict(vected_sms_meyers)\n",
    "    if ((np.sum(NS_prediction)/len(NS_prediction))>.5):\n",
    "        mbti_string = mbti_string +'N'\n",
    "    else:\n",
    "        mbti_string = mbti_string +'S'\n",
    "    \n",
    "    TF_prediction = clf_TF.predict(vected_sms_meyers)\n",
    "    if ((np.sum(TF_prediction)/len(TF_prediction))>.5):\n",
    "        mbti_string = mbti_string +'F'\n",
    "    else:\n",
    "        mbti_string = mbti_string +'T'\n",
    "        \n",
    "    JP_prediction = clf_JP.predict(vected_sms_meyers)\n",
    "    if ((np.sum(JP_prediction)/len(JP_prediction))>.5):\n",
    "        mbti_string = mbti_string +'J'\n",
    "    else:\n",
    "        mbti_string = mbti_string +'P'  \n",
    "        \n",
    "    #print(person, ' is ',  mbti_string)\n",
    "    #print(len(pd.Series(raw_text_friends[person])))\n",
    "    friend_mbti_personalities[person].append(mbti_string)\n",
    "    friend_mbti_personalities[person].append(len(pd.Series(raw_text_friends[person])))"
   ]
  },
  {
   "cell_type": "code",
   "execution_count": 166,
   "metadata": {},
   "outputs": [
    {
     "name": "stdout",
     "output_type": "stream",
     "text": [
      "     MBTI  Text_Count\n",
      "0    ESFJ       22908\n",
      "1    ESFP        3961\n",
      "2    ESFP        1004\n",
      "3    ESFJ         996\n",
      "4    ESFJ         896\n",
      "5    ESFJ         626\n",
      "6    ESFJ         537\n",
      "7    ESFJ         465\n",
      "8    ESFP         420\n",
      "9    ESFP         384\n",
      "10   ESFJ         354\n",
      "11   ESTJ         340\n",
      "12   ESFP         290\n",
      "13   ESFP         264\n",
      "14   ESFP         221\n",
      "..    ...         ...\n",
      "146  ISFP           1\n",
      "147  ESFJ           1\n",
      "148  ENFP           1\n",
      "149  ESFJ           1\n",
      "150  ENFP           1\n",
      "151  ESFJ           1\n",
      "152  ISFP           1\n",
      "153  ESFJ           1\n",
      "154  INFP           1\n",
      "155  ESFP           1\n",
      "156  ESFP           1\n",
      "157  ESFJ           1\n",
      "158  ENFJ           1\n",
      "159  ESFP           1\n",
      "160  INFJ           1\n",
      "\n",
      "[161 rows x 2 columns]\n"
     ]
    }
   ],
   "source": [
    "#display each persons MBTI classification from their texts and the count of texts that it is based off of\n",
    "pd.options.display.max_rows = 30\n",
    "out = pd.DataFrame.from_dict(friend_mbti_personalities,orient='index')\n",
    "out.columns = ['MBTI','Text_Count']\n",
    "print(out.sort_values('Text_Count',ascending=False).reset_index(drop=True))"
   ]
  },
  {
   "cell_type": "code",
   "execution_count": 167,
   "metadata": {},
   "outputs": [
    {
     "name": "stdout",
     "output_type": "stream",
     "text": [
      "Introverted words\t     P(Introverted | Extroverted)\n",
      "                niss 0.73\n",
      "                cats 0.71\n",
      "                anna 0.70\n",
      "          melancholy 0.68\n",
      "                rave 0.67\n",
      "               peter 0.67\n",
      "              lyrics 0.67\n",
      "                rant 0.66\n",
      "                 ___ 0.66\n",
      "                deck 0.66\n",
      "Extroverted words\t     P(Introverted | Extroverted)\n",
      "                 9w8 0.35\n",
      "                 7w8 0.34\n",
      "                 mma 0.34\n",
      "                 7w6 0.34\n",
      "                 2w3 0.33\n",
      "           president 0.33\n",
      "                estp 0.33\n",
      "                 000 0.32\n",
      "                 3w2 0.31\n",
      "                enfp 0.30\n"
     ]
    }
   ],
   "source": [
    "#show words that are the most polarized in introverted vs extroverted\n",
    "words = np.array(vectorizer_mtbi.get_feature_names())\n",
    "\n",
    "x = np.eye(xtest.shape[1])\n",
    "probs = clf_IE.predict_log_proba(x)[:, 0]\n",
    "ind = np.argsort(probs)\n",
    "\n",
    "good_words = words[ind[:10]]\n",
    "bad_words = words[ind[-10:]]\n",
    "\n",
    "good_prob = probs[ind[:10]]\n",
    "bad_prob = probs[ind[-10:]]\n",
    "\n",
    "print(\"Introverted words\\t     P(Introverted | Extroverted)\")\n",
    "for w, p in zip(good_words, good_prob):\n",
    "    print(\"{:>20}\".format(w), \"{:.2f}\".format(1 - np.exp(p)))\n",
    "    \n",
    "print(\"Extroverted words\\t     P(Introverted | Extroverted)\")\n",
    "for w, p in zip(bad_words, bad_prob):\n",
    "    print(\"{:>20}\".format(w), \"{:.2f}\".format(1 - np.exp(p)))"
   ]
  },
  {
   "cell_type": "code",
   "execution_count": null,
   "metadata": {},
   "outputs": [],
   "source": []
  }
 ],
 "metadata": {
  "kernelspec": {
   "display_name": "Python 3",
   "language": "python",
   "name": "python3"
  },
  "language_info": {
   "codemirror_mode": {
    "name": "ipython",
    "version": 3
   },
   "file_extension": ".py",
   "mimetype": "text/x-python",
   "name": "python",
   "nbconvert_exporter": "python",
   "pygments_lexer": "ipython3",
   "version": "3.6.3"
  }
 },
 "nbformat": 4,
 "nbformat_minor": 2
}
